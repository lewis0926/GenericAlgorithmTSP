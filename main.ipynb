{
 "cells": [
  {
   "cell_type": "code",
   "execution_count": 1,
   "id": "a89e25a9",
   "metadata": {},
   "outputs": [],
   "source": [
    "import ga_tsp as ga\n",
    "import utility as util\n",
    "import numpy as np"
   ]
  },
  {
   "cell_type": "markdown",
   "id": "cdb076a6",
   "metadata": {},
   "source": [
    "3.1 Simply find the best route and cost without any restrictions"
   ]
  },
  {
   "cell_type": "code",
   "execution_count": 5,
   "id": "0b377412",
   "metadata": {},
   "outputs": [
    {
     "name": "stdout",
     "output_type": "stream",
     "text": [
      "run: 1\tbest route: 6 2 9 1 4 8 3 7 10 5 \tcost: 2.583248284332358\n",
      "run: 2\tbest route: 7 3 8 4 1 9 2 6 5 10 \tcost: 2.583248284332358\n",
      "run: 3\tbest route: 10 7 3 8 4 1 9 2 6 5 \tcost: 2.583248284332358\n",
      "run: 4\tbest route: 10 7 3 8 4 1 9 2 6 5 \tcost: 2.583248284332358\n",
      "run: 5\tbest route: 7 3 8 4 1 9 2 6 5 10 \tcost: 2.583248284332358\n",
      "run: 6\tbest route: 5 6 2 9 1 4 8 3 7 10 \tcost: 2.583248284332358\n",
      "run: 7\tbest route: 7 3 8 4 1 9 2 6 5 10 \tcost: 2.583248284332358\n",
      "run: 8\tbest route: 10 7 3 8 4 1 9 2 6 5 \tcost: 2.583248284332358\n",
      "run: 9\tbest route: 7 3 8 4 1 9 2 6 5 10 \tcost: 2.583248284332358\n",
      "run: 10\tbest route: 7 3 8 4 1 9 2 6 5 10 \tcost: 2.583248284332358\n",
      "global min best route: 6 2 9 1 4 8 3 7 10 5 \tcost: 2.583248284332358\n"
     ]
    },
    {
     "data": {
      "text/plain": [
       "[<ga_tsp.City at 0x2597fe23d30>,\n",
       " <ga_tsp.City at 0x2590210e4c0>,\n",
       " <ga_tsp.City at 0x2597fe2edc0>,\n",
       " <ga_tsp.City at 0x25902184910>,\n",
       " <ga_tsp.City at 0x259002b9790>,\n",
       " <ga_tsp.City at 0x2597fe2efa0>,\n",
       " <ga_tsp.City at 0x2597fe1dd60>,\n",
       " <ga_tsp.City at 0x2597fe23d00>,\n",
       " <ga_tsp.City at 0x2597fe2eeb0>,\n",
       " <ga_tsp.City at 0x259002b99a0>]"
      ]
     },
     "execution_count": 5,
     "metadata": {},
     "output_type": "execute_result"
    }
   ],
   "source": [
    "best_route_list = []\n",
    "for i in range(10):\n",
    "    result = ga.run_evolution(city_list=util.read_file(\"Dataset/Initial_dataset.txt\"),\n",
    "                              population_size=50,\n",
    "                              crossover_rate=0.7,\n",
    "                              mutation_rate=0.01,\n",
    "                              elitism_size=0.1,\n",
    "                              generation_limit=100,\n",
    "                              cost_limit=0)\n",
    "    \n",
    "    print(f\"run: {i + 1}\", end=\"\\t\")\n",
    "    util.print_route_cost(result[0][0], one_way=False)\n",
    "    best_route_list.append(result[0][0])\n",
    "\n",
    "util.find_global_min(best_route_list, one_way=False)"
   ]
  },
  {
   "cell_type": "markdown",
   "id": "0480d483",
   "metadata": {},
   "source": [
    "3.2 Try population size from 10 to 100"
   ]
  },
  {
   "cell_type": "code",
   "execution_count": 17,
   "id": "1153b5d3",
   "metadata": {},
   "outputs": [
    {
     "name": "stdout",
     "output_type": "stream",
     "text": [
      "population size: 10\taverage generation number: 67.12\taverage convergence time: 0.1340702533721924\n",
      "population size: 20\taverage generation number: 44.9\taverage convergence time: 0.3064352703094482\n",
      "population size: 30\taverage generation number: 32.74\taverage convergence time: 0.4771243524551392\n",
      "population size: 40\taverage generation number: 24.4\taverage convergence time: 0.6151611471176147\n",
      "population size: 50\taverage generation number: 24.92\taverage convergence time: 0.9700149202346802\n",
      "population size: 60\taverage generation number: 13.14\taverage convergence time: 0.7310235834121704\n",
      "population size: 70\taverage generation number: 13.7\taverage convergence time: 1.0195678997039794\n",
      "population size: 80\taverage generation number: 15.88\taverage convergence time: 1.5382145404815675\n",
      "population size: 90\taverage generation number: 14.22\taverage convergence time: 1.736111741065979\n",
      "population size: 100\taverage generation number: 11.04\taverage convergence time: 1.6606087017059326\n"
     ]
    },
    {
     "data": {
      "image/png": "[encoded data removed]",
      "text/plain": [
       "<Figure size 432x288 with 2 Axes>"
      ]
     },
     "metadata": {
      "needs_background": "light"
     },
     "output_type": "display_data"
    }
   ],
   "source": [
    "population_size_list = range(10, 101, 10)\n",
    "generation_number_list = []\n",
    "convergence_time_list = []\n",
    "\n",
    "for j in population_size_list:\n",
    "    generation_number_each_run = []\n",
    "    convergence_time_each_run = []\n",
    "\n",
    "    for i in range(50):\n",
    "        result = ga.run_evolution(city_list=util.read_file(\"Dataset/Initial_dataset.txt\"),\n",
    "                                  population_size=j,\n",
    "                                  crossover_rate=0.7,\n",
    "                                  mutation_rate=0.01,\n",
    "                                  elitism_size=0.1,\n",
    "                                  generation_limit=100,\n",
    "                                  cost_limit=2.6)\n",
    "        \n",
    "        generation_number_each_run.append(result[1])\n",
    "        convergence_time_each_run.append(result[2])\n",
    "\n",
    "    generation_number_list.append(util.average(generation_number_each_run))\n",
    "    convergence_time_list.append(util.average(convergence_time_each_run))\n",
    "    print(f\"population size: {j}\\t\"\n",
    "          f\"average generation number: {util.average(generation_number_each_run)}\\t\"\n",
    "          f\"average convergence time: {util.average(convergence_time_each_run)}\")\n",
    "\n",
    "\n",
    "util.plot_performance_double(x=population_size_list,\n",
    "                             y1=generation_number_list,\n",
    "                             y2=convergence_time_list,\n",
    "                             x_label=\"population_size\",\n",
    "                             y1_label=\"generation_number\",\n",
    "                             y2_label=\"convergence_time (s)\",\n",
    "                             title=\"Performance over population size\",\n",
    "                             log_flag=False)"
   ]
  },
  {
   "cell_type": "markdown",
   "id": "d5e67485",
   "metadata": {},
   "source": [
    "3.3 Try crossover rate from 0.1 to 1.0"
   ]
  },
  {
   "cell_type": "code",
   "execution_count": 3,
   "id": "15516a74",
   "metadata": {
    "scrolled": true
   },
   "outputs": [
    {
     "name": "stdout",
     "output_type": "stream",
     "text": [
      "crossover rate: 0.1\taverage generation number: 74.84\taverage convergence time: 2.8676948881149293\n",
      "crossover rate: 0.2\taverage generation number: 69.86\taverage convergence time: 2.6917551374435424\n",
      "crossover rate: 0.30000000000000004\taverage generation number: 52.52\taverage convergence time: 2.0271018075942995\n",
      "crossover rate: 0.4\taverage generation number: 48.2\taverage convergence time: 1.8603895854949952\n",
      "crossover rate: 0.5\taverage generation number: 29.92\taverage convergence time: 1.1509722566604614\n",
      "crossover rate: 0.6\taverage generation number: 28.76\taverage convergence time: 1.1135073184967041\n",
      "crossover rate: 0.7000000000000001\taverage generation number: 20.96\taverage convergence time: 0.8125857210159302\n",
      "crossover rate: 0.8\taverage generation number: 14.74\taverage convergence time: 0.570972876548767\n",
      "crossover rate: 0.9\taverage generation number: 13.72\taverage convergence time: 0.5348853397369385\n",
      "crossover rate: 1.0\taverage generation number: 15.1\taverage convergence time: 0.5900138759613037\n"
     ]
    },
    {
     "data": {
      "image/png": "[encoded data removed]",
      "text/plain": [
       "<Figure size 432x288 with 2 Axes>"
      ]
     },
     "metadata": {
      "needs_background": "light"
     },
     "output_type": "display_data"
    }
   ],
   "source": [
    "crossover_rate_list = np.arange(0.1, 1.1, 0.1)\n",
    "generation_number_list = []\n",
    "convergence_time_list = []\n",
    "\n",
    "for j in crossover_rate_list:\n",
    "    generation_number_each_run = []\n",
    "    convergence_time_each_run = []\n",
    "\n",
    "    for i in range(50):\n",
    "        result = ga.run_evolution(city_list=util.read_file(\"Dataset/Initial_dataset.txt\"),\n",
    "                                  population_size=50,\n",
    "                                  crossover_rate=j,\n",
    "                                  mutation_rate=0.01,\n",
    "                                  elitism_size=0.1,\n",
    "                                  generation_limit=100,\n",
    "                                  cost_limit=2.6)\n",
    "        \n",
    "        generation_number_each_run.append(result[1])\n",
    "        convergence_time_each_run.append(result[2])\n",
    "    print(f\"crossover rate: {j}\\t\"\n",
    "          f\"average generation number: {util.average(generation_number_each_run)}\\t\"\n",
    "          f\"average convergence time: {util.average(convergence_time_each_run)}\")\n",
    "\n",
    "    generation_number_list.append(util.average(generation_number_each_run))\n",
    "    convergence_time_list.append(util.average(convergence_time_each_run))\n",
    "\n",
    "util.plot_performance_double(x=crossover_rate_list,\n",
    "                             y1=generation_number_list,\n",
    "                             y2=convergence_time_list,\n",
    "                             x_label=\"crossover_rate\",\n",
    "                             y1_label=\"generation_number\",\n",
    "                             y2_label=\"convergence_time (s)\",\n",
    "                             title=\"Performance over crossover rate\",\n",
    "                             log_flag=False)"
   ]
  },
  {
   "cell_type": "markdown",
   "id": "e149f1b1",
   "metadata": {},
   "source": [
    "3.4 Try mutation rate from 0.000001 to 1"
   ]
  },
  {
   "cell_type": "code",
   "execution_count": 4,
   "id": "4dc41e37",
   "metadata": {},
   "outputs": [
    {
     "name": "stdout",
     "output_type": "stream",
     "text": [
      "mutation rate: 1e-06\taverage generation number: 22.6\taverage convergence time: 0.9037343978881835\n",
      "mutation rate: 1e-05\taverage generation number: 27.26\taverage convergence time: 1.102612142562866\n",
      "mutation rate: 0.0001\taverage generation number: 21.7\taverage convergence time: 0.8765473556518555\n",
      "mutation rate: 0.001\taverage generation number: 22.36\taverage convergence time: 0.9007948684692383\n",
      "mutation rate: 0.01\taverage generation number: 17.86\taverage convergence time: 0.7122200965881348\n",
      "mutation rate: 0.1\taverage generation number: 19.76\taverage convergence time: 0.7957763957977295\n",
      "mutation rate: 1.0\taverage generation number: 21.24\taverage convergence time: 0.9097464990615844\n"
     ]
    },
    {
     "data": {
      "image/png": "[encoded data removed]",
      "text/plain": [
       "<Figure size 432x288 with 2 Axes>"
      ]
     },
     "metadata": {
      "needs_background": "light"
     },
     "output_type": "display_data"
    }
   ],
   "source": [
    "mutation_rate_list = list(1 / (10 ** exp) for exp in range(6, -1, -1))\n",
    "generation_number_list = []\n",
    "convergence_time_list = []\n",
    "for j in mutation_rate_list:\n",
    "    generation_number_each_run = []\n",
    "    convergence_time_each_run = []\n",
    "\n",
    "    for i in range(50):\n",
    "        result = ga.run_evolution(city_list=util.read_file(\"Dataset/Initial_dataset.txt\"),\n",
    "                                  population_size=50,\n",
    "                                  crossover_rate=0.7,\n",
    "                                  mutation_rate=0.01,\n",
    "                                  elitism_size=j,\n",
    "                                  generation_limit=100,\n",
    "                                  cost_limit=2.6)\n",
    "        generation_number_each_run.append(result[1])\n",
    "        convergence_time_each_run.append(result[2])\n",
    "    print(f\"mutation rate: {j}\\t\"\n",
    "          f\"average generation number: {util.average(generation_number_each_run)}\\t\"\n",
    "          f\"average convergence time: {util.average(convergence_time_each_run)}\")\n",
    "\n",
    "\n",
    "    generation_number_list.append(util.average(generation_number_each_run))\n",
    "    convergence_time_list.append(util.average(convergence_time_each_run))\n",
    "\n",
    "util.plot_performance_double(x=mutation_rate_list,\n",
    "                             y1=generation_number_list,\n",
    "                             y2=convergence_time_list,\n",
    "                             x_label=\"mutation_rate\",\n",
    "                             y1_label=\"generation_number\",\n",
    "                             y2_label=\"convergence_time (s)\",\n",
    "                             title=\"Performance over mutation rate\",\n",
    "                             log_flag=True)"
   ]
  },
  {
   "cell_type": "markdown",
   "id": "a00e0ebd",
   "metadata": {},
   "source": [
    "3.5 Try elitism rate from 0.1 to 1.0"
   ]
  },
  {
   "cell_type": "code",
   "execution_count": 6,
   "id": "5cb06df2",
   "metadata": {},
   "outputs": [
    {
     "name": "stdout",
     "output_type": "stream",
     "text": [
      "elitism rate: 0.1\taverage generation number: 17.6\taverage convergence time: 0.6976287937164307\n",
      "elitism rate: 0.2\taverage generation number: 17.28\taverage convergence time: 0.6789724111557007\n",
      "elitism rate: 0.30000000000000004\taverage generation number: 15.46\taverage convergence time: 0.6174794387817383\n",
      "elitism rate: 0.4\taverage generation number: 14.98\taverage convergence time: 0.5938861083984375\n",
      "elitism rate: 0.5\taverage generation number: 15.02\taverage convergence time: 0.5917708349227905\n",
      "elitism rate: 0.6\taverage generation number: 16.88\taverage convergence time: 0.6626544284820557\n",
      "elitism rate: 0.7000000000000001\taverage generation number: 16.1\taverage convergence time: 0.6400449132919311\n",
      "elitism rate: 0.8\taverage generation number: 22.22\taverage convergence time: 0.8821390724182129\n",
      "elitism rate: 0.9\taverage generation number: 22.74\taverage convergence time: 0.8958063888549804\n",
      "elitism rate: 1.0\taverage generation number: 20.92\taverage convergence time: 0.838550124168396\n"
     ]
    },
    {
     "data": {
      "image/png": "[encoded data removed]",
      "text/plain": [
       "<Figure size 432x288 with 2 Axes>"
      ]
     },
     "metadata": {
      "needs_background": "light"
     },
     "output_type": "display_data"
    }
   ],
   "source": [
    "elitism_rate_list = np.arange(0.1, 1.1, 0.1)\n",
    "generation_number_list = []\n",
    "convergence_time_list = []\n",
    "\n",
    "for j in elitism_rate_list:\n",
    "    generation_number_each_run = []\n",
    "    convergence_time_each_run = []\n",
    "\n",
    "    for i in range(50):\n",
    "        result = ga.run_evolution(city_list=util.read_file(\"Dataset/Initial_dataset.txt\"),\n",
    "                                  population_size=50,\n",
    "                                  crossover_rate=0.7,\n",
    "                                  mutation_rate=j,\n",
    "                                  elitism_size=0.1,\n",
    "                                  generation_limit=100,\n",
    "                                  cost_limit=2.6)\n",
    "        generation_number_each_run.append(result[1])\n",
    "        convergence_time_each_run.append(result[2])\n",
    "    print(f\"elitism rate: {j}\\t\"\n",
    "          f\"average generation number: {util.average(generation_number_each_run)}\\t\"\n",
    "          f\"average convergence time: {util.average(convergence_time_each_run)}\")\n",
    "\n",
    "    generation_number_list.append(util.average(generation_number_each_run))\n",
    "    convergence_time_list.append(util.average(convergence_time_each_run))\n",
    "\n",
    "util.plot_performance_double(x=elitism_rate_list,\n",
    "                             y1=generation_number_list,\n",
    "                             y2=convergence_time_list,\n",
    "                             x_label=\"elitism_rate\",\n",
    "                             y1_label=\"generation_number\",\n",
    "                             y2_label=\"convergence_time (s)\",\n",
    "                             title=\"Performance over elitism rate\",\n",
    "                             log_flag=False)"
   ]
  },
  {
   "cell_type": "markdown",
   "id": "f517c8b7",
   "metadata": {},
   "source": [
    "4.1 More cities"
   ]
  },
  {
   "cell_type": "code",
   "execution_count": 6,
   "id": "8e5f0a89",
   "metadata": {},
   "outputs": [
    {
     "name": "stdout",
     "output_type": "stream",
     "text": [
      "number of cities: 20\n",
      "run: 1\tbest route: 5 7 10 16 18 17 19 3 9 1 8 15 4 6 12 2 20 14 13 11 \tcost: 3.6888175962589327\n",
      "run: 2\tbest route: 14 2 6 12 11 5 7 10 16 18 17 19 3 9 1 15 4 8 20 13 \tcost: 3.8242439629992733\n",
      "run: 3\tbest route: 16 10 7 9 15 4 8 1 6 13 14 20 2 12 11 5 19 3 17 18 \tcost: 4.33728785845047\n",
      "run: 4\tbest route: 14 20 15 4 8 1 9 10 7 18 16 17 19 3 5 11 12 6 2 13 \tcost: 4.444613130141214\n",
      "run: 5\tbest route: 16 10 7 9 1 8 15 4 6 2 13 14 20 12 11 5 3 19 17 18 \tcost: 4.263164941465463\n",
      "run: 6\tbest route: 4 8 1 9 3 19 18 17 16 10 7 5 11 13 14 20 2 12 6 15 \tcost: 4.032223984751787\n",
      "run: 7\tbest route: 7 5 6 2 20 13 14 11 12 9 1 8 4 15 3 19 17 18 16 10 \tcost: 3.9283612411160975\n",
      "run: 8\tbest route: 14 20 2 6 5 10 7 18 16 17 19 3 8 4 15 9 1 12 11 13 \tcost: 4.095461939637351\n",
      "run: 9\tbest route: 10 7 9 15 4 8 1 6 11 13 14 20 2 12 5 3 19 17 18 16 \tcost: 4.3731475377529065\n",
      "run: 10\tbest route: 14 20 11 7 10 16 18 17 19 3 4 15 8 9 1 5 12 6 2 13 \tcost: 4.179887457152089\n",
      "global min best route: 5 7 10 16 18 17 19 3 9 1 8 15 4 6 12 2 20 14 13 11 \tcost: 3.6888175962589327\n",
      "number of cities: 40\n",
      "run: 1\tbest route: 33 30 3 18 14 10 26 35 27 7 19 34 32 12 5 17 23 15 39 25 40 21 36 9 37 6 22 24 29 38 11 2 20 28 1 8 4 13 16 31 \tcost: 7.639263470985622\n",
      "run: 2\tbest route: 29 24 22 19 32 34 7 10 12 5 23 9 40 1 33 36 30 3 27 26 35 17 14 15 25 28 4 8 39 18 31 16 13 21 6 37 20 2 38 11 \tcost: 8.610373876357349\n",
      "run: 3\tbest route: 6 20 37 2 24 29 11 38 22 25 31 3 30 33 26 27 7 32 34 19 12 10 14 5 15 39 18 23 17 35 36 16 13 1 9 8 4 21 28 40 \tcost: 7.772296437530688\n",
      "run: 4\tbest route: 20 40 4 21 31 16 13 28 8 9 1 37 22 38 24 29 11 2 15 25 39 34 12 19 32 35 14 7 26 27 10 17 23 5 18 30 36 33 3 6 \tcost: 7.782070577756496\n",
      "run: 5\tbest route: 36 28 37 24 29 11 38 22 2 20 5 34 19 32 12 6 21 40 1 9 4 16 8 13 31 39 23 25 15 18 35 27 7 10 17 14 26 33 30 3 \tcost: 8.558118139812446\n",
      "run: 6\tbest route: 15 6 2 38 29 24 11 37 20 22 5 34 19 32 12 17 7 35 27 10 26 14 25 23 39 40 9 1 21 28 8 4 16 13 31 33 30 18 3 36 \tcost: 7.889191286278912\n",
      "run: 7\tbest route: 19 34 32 14 7 27 26 35 10 12 38 11 37 6 2 29 24 22 20 1 28 13 31 16 36 3 33 30 18 8 4 40 21 9 15 39 25 23 17 5 \tcost: 7.324253863105952\n",
      "run: 8\tbest route: 22 38 29 24 11 6 8 3 36 30 33 18 39 17 14 12 19 10 34 32 27 35 26 7 5 25 15 23 9 28 1 16 13 31 4 21 40 2 37 20 \tcost: 7.463936025689577\n",
      "run: 9\tbest route: 4 21 28 9 8 1 30 3 13 16 31 36 33 18 35 26 5 19 12 34 32 10 27 7 25 39 15 23 17 14 2 20 38 37 6 24 11 29 22 40 \tcost: 8.055582605313058\n",
      "run: 10\tbest route: 36 16 28 13 31 21 8 3 18 15 39 1 4 40 29 11 6 37 20 24 2 22 17 23 25 9 38 5 19 32 12 34 10 7 14 26 27 35 30 33 \tcost: 8.291830514661562\n",
      "global min best route: 19 34 32 14 7 27 26 35 10 12 38 11 37 6 2 29 24 22 20 1 28 13 31 16 36 3 33 30 18 8 4 40 21 9 15 39 25 23 17 5 \tcost: 7.324253863105952\n",
      "number of cities: 60\n",
      "run: 1\tbest route: 41 46 24 29 30 27 17 8 51 42 32 52 40 3 13 54 55 28 4 21 9 1 22 2 45 15 43 6 35 39 19 23 34 49 25 53 44 7 58 10 31 48 12 57 16 18 5 50 56 38 14 36 47 33 60 11 37 20 26 59 \tcost: 12.68520908025364\n",
      "run: 2\tbest route: 18 33 26 36 20 16 49 14 59 37 47 10 31 48 7 60 12 41 58 53 46 44 29 1 8 55 51 6 22 39 2 42 54 27 52 17 3 9 13 4 28 32 30 21 43 45 35 15 19 23 57 34 56 50 11 25 24 40 38 5 \tcost: 12.215791774946787\n",
      "run: 3\tbest route: 13 55 8 52 3 40 29 24 25 53 44 41 12 45 2 43 56 35 19 39 15 18 16 14 47 33 57 20 37 5 50 49 34 23 26 36 59 60 31 48 7 27 46 58 38 10 11 6 22 51 42 9 1 28 32 17 30 4 54 21 \tcost: 12.303238359276085\n",
      "run: 4\tbest route: 51 39 43 35 56 50 49 16 33 20 47 23 18 34 57 12 11 37 48 10 38 14 59 26 7 53 29 32 54 55 13 8 17 52 30 21 9 6 2 22 40 27 58 41 24 46 44 60 36 31 5 25 3 28 4 45 19 15 1 42 \tcost: 13.452484498676082\n",
      "run: 5\tbest route: 1 9 28 54 51 29 50 11 25 33 26 16 47 14 36 57 20 37 38 59 34 5 21 42 40 17 27 24 44 58 31 10 41 46 53 7 48 60 18 23 35 45 39 19 12 49 56 52 3 30 55 8 4 32 13 22 6 43 15 2 \tcost: 12.262879512891525\n",
      "run: 6\tbest route: 27 24 44 25 11 58 41 7 12 60 10 38 47 14 36 26 16 23 35 45 15 19 18 49 37 31 59 48 33 20 57 34 56 50 2 43 42 5 53 46 40 52 29 6 39 51 32 13 30 3 17 28 9 8 54 21 22 4 1 55 \tcost: 12.699994825632151\n",
      "run: 7\tbest route: 15 6 43 4 1 54 32 55 51 5 56 12 59 26 23 20 14 33 57 49 37 36 16 34 18 11 25 47 38 10 60 22 3 30 17 52 29 40 27 24 44 46 53 41 48 31 58 7 50 9 42 21 13 28 8 45 19 39 35 2 \tcost: 12.390041156791694\n",
      "run: 8\tbest route: 13 22 54 55 17 30 51 1 21 43 23 34 36 26 16 31 10 60 47 33 14 48 27 58 46 37 7 44 41 53 25 29 12 49 50 38 20 57 59 5 56 18 35 45 19 15 2 39 6 9 40 11 24 42 52 3 32 28 8 4 \tcost: 12.817415546449345\n",
      "run: 9\tbest route: 2 51 1 54 8 13 4 28 30 21 42 40 12 38 26 20 14 47 16 49 50 5 53 44 52 27 58 46 48 7 31 41 11 56 57 36 59 37 10 24 3 32 55 17 29 9 22 25 60 33 23 34 18 43 35 39 15 19 45 6 \tcost: 12.29620028889732\n",
      "run: 10\tbest route: 7 53 11 40 42 51 1 54 8 28 32 17 52 21 55 4 30 13 3 29 9 39 2 45 6 35 15 19 22 56 34 57 16 37 5 43 18 23 14 48 59 12 49 20 47 38 33 36 26 50 25 27 44 58 41 10 31 60 46 24 \tcost: 12.129457223061264\n",
      "global min best route: 7 53 11 40 42 51 1 54 8 28 32 17 52 21 55 4 30 13 3 29 9 39 2 45 6 35 15 19 22 56 34 57 16 37 5 43 18 23 14 48 59 12 49 20 47 38 33 36 26 50 25 27 44 58 41 10 31 60 46 24 \tcost: 12.129457223061264\n",
      "number of cities: 80\n",
      "run: 1\tbest route: 79 74 2 67 77 68 66 25 62 40 69 51 22 11 38 48 58 63 29 18 59 27 45 23 24 54 13 60 76 75 1 46 64 49 21 33 4 8 37 35 7 34 57 50 56 15 41 47 72 80 65 19 78 39 43 5 61 20 16 10 26 31 44 28 3 53 32 14 9 71 70 73 6 52 55 36 12 17 42 30 \tcost: 18.15509679518885\n",
      "run: 2\tbest route: 5 27 18 29 61 74 80 72 15 78 19 47 39 77 41 66 71 58 16 64 7 44 54 57 26 63 34 10 60 48 13 49 37 38 24 28 53 70 8 40 32 75 73 21 9 22 11 14 12 52 56 43 79 2 6 30 67 31 36 62 25 69 17 33 42 46 4 55 1 68 3 51 76 35 50 20 65 45 23 59 \tcost: 16.303455148636065\n",
      "run: 3\tbest route: 73 3 13 54 7 10 57 26 16 35 43 30 19 65 74 80 72 47 8 40 14 71 32 17 49 37 24 44 31 11 58 34 63 27 50 9 68 25 69 70 52 2 66 33 1 55 5 64 4 62 36 22 46 48 60 28 76 75 38 56 6 12 41 78 79 67 15 77 39 61 45 23 29 59 18 20 42 51 21 53 \tcost: 17.952481305164326\n",
      "run: 4\tbest route: 47 42 35 29 27 18 15 72 19 61 45 26 60 54 10 16 7 57 34 63 64 11 31 1 32 68 12 25 62 33 66 43 79 65 77 67 80 41 2 52 55 40 14 4 17 51 8 69 3 48 44 58 56 9 22 36 46 71 70 53 21 75 37 38 76 24 13 28 49 73 5 20 50 74 30 23 59 78 39 6 \tcost: 17.38852619152166\n",
      "run: 5\tbest route: 56 71 1 31 76 64 36 22 73 69 4 6 80 78 46 33 42 79 30 43 2 11 16 35 13 58 49 48 7 10 44 54 34 27 63 26 50 65 20 45 18 59 23 5 75 3 51 8 40 68 17 52 66 25 12 70 38 28 37 21 53 14 32 62 60 24 57 61 29 19 15 74 72 55 39 67 47 41 77 9 \tcost: 18.90916547222999\n",
      "run: 6\tbest route: 59 61 27 29 41 72 79 78 77 2 67 42 25 68 73 76 58 11 48 13 44 57 23 15 74 47 80 55 51 71 56 9 32 21 28 24 31 38 49 75 37 3 14 22 53 69 40 4 70 1 33 8 66 17 16 7 34 10 63 65 20 19 52 46 39 6 12 62 36 50 26 54 60 5 64 35 43 30 18 45 \tcost: 18.24271927020292\n",
      "run: 7\tbest route: 62 70 46 22 73 66 9 50 5 54 13 28 24 48 44 34 26 63 18 65 30 15 42 74 27 57 58 23 45 61 41 47 6 52 68 25 17 79 72 77 19 67 78 43 11 76 16 69 40 51 8 75 1 55 36 12 39 80 33 14 4 53 31 71 32 35 64 7 60 21 49 3 38 37 59 10 29 20 56 2 \tcost: 21.06350441913325\n",
      "run: 8\tbest route: 9 25 8 53 21 32 46 64 76 54 16 28 13 44 26 10 5 56 35 36 58 60 7 24 31 73 75 38 48 49 3 70 51 37 40 68 22 71 66 43 72 77 74 65 61 34 57 63 23 18 45 59 27 29 30 78 20 19 67 80 41 79 11 1 33 14 4 62 69 52 2 50 15 47 39 42 55 6 12 17 \tcost: 17.246453992600284\n",
      "run: 9\tbest route: 31 38 35 46 9 76 51 36 16 11 64 56 79 30 52 77 80 41 72 39 19 65 27 26 59 63 10 45 29 18 61 5 71 42 17 68 75 73 22 32 12 66 43 1 33 25 40 14 4 55 2 6 47 67 20 50 78 74 15 23 57 24 3 37 49 21 70 53 8 69 62 44 7 34 54 58 48 13 60 28 \tcost: 17.662166720543894\n",
      "run: 10\tbest route: 49 64 12 33 46 22 50 54 34 10 7 63 23 59 45 57 18 30 39 11 31 44 26 61 27 29 35 20 74 77 67 41 19 79 55 80 47 2 72 78 65 15 52 66 71 51 32 62 25 4 3 37 40 28 58 9 5 42 43 6 1 56 17 68 70 8 69 14 24 16 60 38 21 53 75 76 36 73 13 48 \tcost: 19.583715457623164\n",
      "global min best route: 5 27 18 29 61 74 80 72 15 78 19 47 39 77 41 66 71 58 16 64 7 44 54 57 26 63 34 10 60 48 13 49 37 38 24 28 53 70 8 40 32 75 73 21 9 22 11 14 12 52 56 43 79 2 6 30 67 31 36 62 25 69 17 33 42 46 4 55 1 68 3 51 76 35 50 20 65 45 23 59 \tcost: 16.303455148636065\n",
      "number of cities: 100\n"
     ]
    },
    {
     "name": "stdout",
     "output_type": "stream",
     "text": [
      "run: 1\tbest route: 68 20 78 91 65 41 14 43 12 17 74 73 2 93 83 25 36 99 62 96 97 37 18 45 67 40 58 53 27 33 77 52 4 23 59 24 51 26 72 11 38 46 28 1 80 49 9 71 85 56 6 95 76 57 29 86 64 22 54 75 44 7 92 55 19 89 39 48 84 79 31 98 47 30 32 60 88 16 50 82 90 10 42 94 69 21 15 61 13 5 100 81 87 63 8 34 70 66 3 35 \tcost: 23.365877163781967\n",
      "run: 2\tbest route: 61 29 62 81 83 18 77 63 37 47 23 49 3 78 45 87 85 27 28 42 89 76 74 72 46 98 48 79 73 69 6 57 31 2 56 1 4 97 34 52 66 44 64 54 22 5 94 43 16 38 30 7 13 25 36 95 80 100 93 33 8 70 35 68 65 15 21 60 11 82 88 90 26 99 24 51 55 17 50 19 32 12 39 96 67 40 9 92 91 41 86 53 20 10 14 75 59 58 71 84 \tcost: 24.393066528812323\n",
      "run: 3\tbest route: 61 85 27 4 87 40 86 84 41 75 9 33 70 77 36 79 43 68 65 37 45 3 53 96 42 92 24 55 58 78 54 64 23 59 14 10 99 74 6 25 93 48 98 19 69 12 21 38 67 20 22 44 66 35 52 63 34 97 8 18 29 95 1 80 81 91 60 50 11 26 88 51 82 16 90 15 28 83 71 76 72 94 30 32 89 7 47 5 39 73 56 31 46 2 57 62 49 100 17 13 \tcost: 25.296192814072825\n",
      "run: 4\tbest route: 38 24 15 95 31 56 76 6 1 9 28 71 59 41 16 11 50 72 69 61 48 79 74 19 84 27 34 77 70 80 52 18 37 58 7 99 83 97 96 8 63 33 46 73 81 93 25 65 23 3 35 44 22 54 14 40 86 100 4 36 29 57 12 5 39 17 60 88 55 90 82 26 94 53 75 20 66 85 91 92 68 47 43 89 13 98 2 45 49 67 62 87 42 10 64 78 21 32 30 51 \tcost: 23.919949193533117\n",
      "run: 5\tbest route: 68 75 85 96 14 65 91 41 10 25 36 81 100 80 52 3 35 63 8 33 45 61 13 87 77 40 37 12 71 27 70 9 1 62 76 57 89 43 31 48 60 11 90 72 16 88 30 39 56 83 93 6 19 17 99 84 98 73 79 95 26 82 55 38 50 74 2 46 69 24 51 42 22 32 94 47 28 49 34 18 29 4 97 92 23 15 5 53 7 21 78 58 86 66 44 54 20 64 67 59 \tcost: 25.948223046736167\n",
      "run: 6\tbest route: 41 20 70 68 21 50 26 69 6 57 36 84 100 27 35 86 71 5 25 1 56 8 80 97 52 34 77 45 37 3 63 2 13 19 31 74 33 4 29 18 53 59 14 78 23 65 75 10 60 32 38 30 88 16 90 81 9 87 62 96 73 39 98 72 82 11 24 92 61 55 51 42 43 47 28 76 79 93 95 83 66 54 64 40 58 99 17 89 12 46 48 94 44 91 85 49 15 67 22 7 \tcost: 24.920740366561272\n",
      "run: 7\tbest route: 23 24 84 5 77 34 8 93 21 96 18 1 52 70 83 62 68 75 10 92 78 20 65 22 44 54 63 4 86 71 27 87 91 67 81 50 38 51 30 16 26 88 94 43 85 25 2 76 73 48 98 19 39 72 69 89 47 15 42 11 32 90 74 57 46 41 45 35 53 97 37 49 28 80 33 100 9 29 95 56 58 40 36 79 6 31 82 55 17 60 99 13 12 61 7 14 66 59 3 64 \tcost: 25.32133027306365\n",
      "run: 8\tbest route: 26 19 48 62 84 94 43 98 79 9 53 18 96 25 100 80 8 81 71 85 27 5 28 29 34 97 70 35 52 3 63 1 93 76 46 2 12 6 73 31 56 36 95 33 77 4 83 57 74 82 88 50 21 22 44 64 65 14 67 49 11 99 39 15 55 42 89 90 16 60 32 61 69 13 58 68 59 86 37 75 78 10 23 40 24 51 38 47 87 66 91 41 30 20 54 45 92 7 72 17 \tcost: 24.970179142947913\n",
      "run: 9\tbest route: 59 23 54 66 35 22 75 14 49 52 80 4 97 45 37 33 62 8 34 9 96 58 28 94 60 68 77 70 18 74 79 27 3 53 63 47 42 91 10 92 16 99 72 19 39 89 12 84 71 41 24 21 51 30 50 88 38 32 11 61 73 98 2 7 87 6 76 48 57 36 56 69 43 26 17 13 55 90 82 31 95 93 25 15 5 46 83 81 29 1 100 40 86 85 67 20 44 78 65 64 \tcost: 23.346215508507907\n",
      "run: 10\tbest route: 81 33 8 70 35 27 1 18 29 34 77 4 80 36 79 98 95 72 55 73 31 68 40 65 14 64 75 44 54 86 59 85 47 37 3 63 97 52 49 84 9 45 67 41 17 82 21 13 43 5 26 12 48 89 42 22 78 15 10 7 23 20 66 96 53 91 58 28 88 50 11 30 90 60 16 39 19 69 32 38 51 92 24 94 61 57 100 83 46 93 25 71 56 2 99 6 62 87 76 74 \tcost: 23.849940757103077\n",
      "global min best route: 59 23 54 66 35 22 75 14 49 52 80 4 97 45 37 33 62 8 34 9 96 58 28 94 60 68 77 70 18 74 79 27 3 53 63 47 42 91 10 92 16 99 72 19 39 89 12 84 71 41 24 21 51 30 50 88 38 32 11 61 73 98 2 7 87 6 76 48 57 36 56 69 43 26 17 13 55 90 82 31 95 93 25 15 5 46 83 81 29 1 100 40 86 85 67 20 44 78 65 64 \tcost: 23.346215508507907\n"
     ]
    },
    {
     "data": {
      "image/png": "[encoded data removed]",
      "text/plain": [
       "<Figure size 432x288 with 1 Axes>"
      ]
     },
     "metadata": {
      "needs_background": "light"
     },
     "output_type": "display_data"
    }
   ],
   "source": [
    "convergence_time_list = []\n",
    "\n",
    "for j in range(20, 101, 20):\n",
    "    city_list = util.read_file(\"Dataset/Initial_dataset.txt\")\n",
    "    util.add_more_cities(city_list, j - 10)\n",
    "    print(f\"number of cities: {len(city_list)}\")\n",
    "\n",
    "    best_route_list = []\n",
    "\n",
    "    for i in range(10):\n",
    "        convergence_time_each_run = []\n",
    "        result = ga.run_evolution(city_list=city_list,\n",
    "                                  population_size=50,\n",
    "                                  crossover_rate=0.7,\n",
    "                                  mutation_rate=0.01,\n",
    "                                  elitism_size=0.1,\n",
    "                                  generation_limit=100,\n",
    "                                  cost_limit=0)\n",
    "        print(f\"run: {i + 1}\", end=\"\\t\")\n",
    "        util.print_route_cost(result[0][0], one_way=False)\n",
    "        best_route_list.append(result[0][0])\n",
    "        convergence_time_each_run.append(result[2])\n",
    "\n",
    "    convergence_time_list.append(util.average(convergence_time_each_run))\n",
    "    util.find_global_min(best_route_list, one_way=False)\n",
    "\n",
    "util.plot_performance(x=range(20, 101, 20),\n",
    "                      y=convergence_time_list,\n",
    "                      x_label=\"cities_num\",\n",
    "                      y_label=\"convergence_time\",\n",
    "                      title=\"Convergence time over number of cities\")"
   ]
  },
  {
   "cell_type": "markdown",
   "id": "6cdc5d26",
   "metadata": {},
   "source": [
    "4.2 Given start and end cities"
   ]
  },
  {
   "cell_type": "code",
   "execution_count": 3,
   "id": "39a39b1a",
   "metadata": {},
   "outputs": [],
   "source": [
    "import ga_given_start_end as ga_gse"
   ]
  },
  {
   "cell_type": "code",
   "execution_count": 4,
   "id": "bd2fb1df",
   "metadata": {
    "scrolled": true
   },
   "outputs": [
    {
     "name": "stdout",
     "output_type": "stream",
     "text": [
      "run: 1\tbest route: 9 1 6 2 4 8 3 7 10 5 \tcost: 2.4315533675724423\n",
      "run: 2\tbest route: 9 1 4 8 3 10 7 6 2 5 \tcost: 2.574040010475139\n",
      "run: 3\tbest route: 9 1 6 2 4 8 3 7 10 5 \tcost: 2.4315533675724423\n",
      "run: 4\tbest route: 9 1 6 2 4 8 3 7 10 5 \tcost: 2.4315533675724423\n",
      "run: 5\tbest route: 9 1 6 2 4 8 3 7 10 5 \tcost: 2.4315533675724423\n",
      "run: 6\tbest route: 9 1 6 2 4 8 3 7 10 5 \tcost: 2.4315533675724423\n",
      "run: 7\tbest route: 9 8 4 2 6 1 3 7 10 5 \tcost: 2.597308204522193\n",
      "run: 8\tbest route: 9 1 6 2 4 8 3 7 10 5 \tcost: 2.4315533675724423\n",
      "run: 9\tbest route: 9 3 8 4 1 2 6 7 10 5 \tcost: 2.5322468275748045\n",
      "run: 10\tbest route: 9 1 6 2 4 8 3 7 10 5 \tcost: 2.4315533675724423\n",
      "global min best route: 9 1 6 2 4 8 3 7 10 5 \tcost: 2.4315533675724423\n"
     ]
    },
    {
     "data": {
      "text/plain": [
       "[<ga_tsp.City at 0x259021b3970>,\n",
       " <ga_tsp.City at 0x2590215cf70>,\n",
       " <ga_tsp.City at 0x25902184730>,\n",
       " <ga_tsp.City at 0x2590216daf0>,\n",
       " <ga_tsp.City at 0x2590211cb20>,\n",
       " <ga_tsp.City at 0x259021b3940>,\n",
       " <ga_tsp.City at 0x2597fe1dbe0>,\n",
       " <ga_tsp.City at 0x259021846d0>,\n",
       " <ga_tsp.City at 0x259021b3a60>,\n",
       " <ga_tsp.City at 0x2597fd5b280>]"
      ]
     },
     "execution_count": 4,
     "metadata": {},
     "output_type": "execute_result"
    }
   ],
   "source": [
    "best_route_list = []\n",
    "for i in range(10):\n",
    "    result = ga_gse.run_evolution(city_list=util.read_file(\"Dataset/Initial_dataset.txt\"),\n",
    "                                  population_size=50,\n",
    "                                  crossover_rate=0.7,\n",
    "                                  mutation_rate=0.01,\n",
    "                                  elitism_size=0.1,\n",
    "                                  generation_limit=100,\n",
    "                                  cost_limit=0,\n",
    "                                  start_city=9,\n",
    "                                  end_city=5)\n",
    "    print(f\"run: {i + 1}\", end=\"\\t\")\n",
    "    util.print_route_cost(result[0][0], one_way=True)\n",
    "    best_route_list.append(result[0][0])\n",
    "\n",
    "util.find_global_min(best_route_list, one_way=True)"
   ]
  },
  {
   "cell_type": "markdown",
   "id": "47cb9789",
   "metadata": {},
   "source": [
    "4.3 Asymmetric traveling salesman problem (ATSP)"
   ]
  },
  {
   "cell_type": "code",
   "execution_count": 1,
   "id": "bc94358f",
   "metadata": {},
   "outputs": [],
   "source": [
    "import ga_atsp"
   ]
  },
  {
   "cell_type": "code",
   "execution_count": 4,
   "id": "3f48bb35",
   "metadata": {},
   "outputs": [
    {
     "name": "stdout",
     "output_type": "stream",
     "text": [
      "run: 1\tbest route: 5 3 4 2 7 10 1 9 6 8 \tcost: 1.798430309\n",
      "run: 2\tbest route: 7 4 2 3 10 1 9 6 8 5 \tcost: 1.7157684599999998\n",
      "run: 3\tbest route: 7 4 2 3 10 1 9 6 8 5 \tcost: 1.7157684599999998\n",
      "run: 4\tbest route: 7 4 2 3 10 1 9 6 8 5 \tcost: 1.7157684599999998\n",
      "run: 5\tbest route: 6 8 5 3 4 2 7 10 1 9 \tcost: 1.798430309\n",
      "run: 6\tbest route: 7 4 2 3 10 1 9 6 8 5 \tcost: 1.7157684599999998\n",
      "run: 7\tbest route: 7 4 2 3 10 1 9 6 8 5 \tcost: 1.7157684599999998\n",
      "run: 8\tbest route: 7 4 2 3 10 1 9 6 8 5 \tcost: 1.7157684599999998\n",
      "run: 9\tbest route: 7 4 2 3 10 1 9 6 8 5 \tcost: 1.7157684599999998\n",
      "run: 10\tbest route: 7 4 2 3 10 1 9 6 8 5 \tcost: 1.7157684599999998\n",
      "global min best route: 7 4 2 3 10 1 9 6 8 5 \tcost: 1.7157684599999998\n"
     ]
    },
    {
     "data": {
      "text/plain": [
       "[<ga_tsp.City at 0x1a4840ee910>,\n",
       " <ga_tsp.City at 0x1a4840eea30>,\n",
       " <ga_tsp.City at 0x1a4840ee340>,\n",
       " <ga_tsp.City at 0x1a4840eea90>,\n",
       " <ga_tsp.City at 0x1a4840ee7f0>,\n",
       " <ga_tsp.City at 0x1a4840eeb20>,\n",
       " <ga_tsp.City at 0x1a4840ee850>,\n",
       " <ga_tsp.City at 0x1a4840ee970>,\n",
       " <ga_tsp.City at 0x1a4840ee8b0>,\n",
       " <ga_tsp.City at 0x1a4840ee9d0>]"
      ]
     },
     "execution_count": 4,
     "metadata": {},
     "output_type": "execute_result"
    }
   ],
   "source": [
    "best_route_list = []\n",
    "distance_dict = util.read_file_distance_atsp(\"Dataset/Atsp_distance_dataset.txt\")\n",
    "\n",
    "for i in range(10):\n",
    "    result = ga_atsp.run_evolution(city_list=util.read_file(\"Dataset/Initial_dataset.txt\"),\n",
    "                                   distance_dict=distance_dict,\n",
    "                                   population_size=50,\n",
    "                                   crossover_rate=0.7,\n",
    "                                   mutation_rate=0.01,\n",
    "                                   elitism_size=0.1,\n",
    "                                   generation_limit=100,\n",
    "                                   cost_limit=0)\n",
    "    print(f\"run: {i + 1}\", end=\"\\t\")\n",
    "    util.print_route_cost_atsp(result[0][0], distance_dict)\n",
    "    best_route_list.append(result[0][0])\n",
    "\n",
    "util.find_global_min_atsp(best_route_list, distance_dict)"
   ]
  },
  {
   "cell_type": "markdown",
   "id": "337c1913",
   "metadata": {},
   "source": [
    "4.4 Sequential ordering problem (SOP)"
   ]
  },
  {
   "cell_type": "code",
   "execution_count": 2,
   "id": "7c5470ac",
   "metadata": {},
   "outputs": [],
   "source": [
    "import ga_sop"
   ]
  },
  {
   "cell_type": "code",
   "execution_count": 3,
   "id": "85fdd936",
   "metadata": {},
   "outputs": [
    {
     "name": "stdout",
     "output_type": "stream",
     "text": [
      "run: 1\tbest route: 9 2 6 5 7 10 3 8 1 4 \tcost: 2.7849313178331725\n",
      "run: 2\tbest route: 9 5 10 7 2 6 1 4 8 3 \tcost: 2.898864805435662\n",
      "run: 3\tbest route: 9 7 10 5 6 2 4 8 3 1 \tcost: 2.759091511308884\n",
      "run: 4\tbest route: 9 1 7 10 5 6 2 4 8 3 \tcost: 2.7815180187224184\n",
      "run: 5\tbest route: 8 4 1 9 7 10 5 6 2 3 \tcost: 2.8528664125793726\n",
      "run: 6\tbest route: 8 4 1 9 2 6 5 10 7 3 \tcost: 2.5832482843323583\n",
      "run: 7\tbest route: 8 4 1 9 2 6 5 10 7 3 \tcost: 2.5832482843323583\n",
      "run: 8\tbest route: 1 9 2 6 5 10 7 3 8 4 \tcost: 2.5832482843323583\n",
      "run: 9\tbest route: 9 7 10 5 6 2 1 8 4 3 \tcost: 2.852718225555896\n",
      "run: 10\tbest route: 9 1 4 8 2 6 5 10 7 3 \tcost: 2.696033919339156\n",
      "global min best route: 8 4 1 9 2 6 5 10 7 3 \tcost: 2.5832482843323583\n"
     ]
    },
    {
     "data": {
      "text/plain": [
       "[<ga_tsp.City at 0x121e8f46850>,\n",
       " <ga_tsp.City at 0x121e8f469d0>,\n",
       " <ga_tsp.City at 0x121e8f46ac0>,\n",
       " <ga_tsp.City at 0x121e8f467f0>,\n",
       " <ga_tsp.City at 0x121e8f46190>,\n",
       " <ga_tsp.City at 0x121e8f46910>,\n",
       " <ga_tsp.City at 0x121e8f46970>,\n",
       " <ga_tsp.City at 0x121e8f46790>,\n",
       " <ga_tsp.City at 0x121e8f468b0>,\n",
       " <ga_tsp.City at 0x121e8f46a30>]"
      ]
     },
     "execution_count": 3,
     "metadata": {},
     "output_type": "execute_result"
    }
   ],
   "source": [
    "best_route_list = []\n",
    "\n",
    "for i in range(10):\n",
    "    result = ga_sop.run_evolution(city_list=util.read_file(\"Dataset/Initial_dataset.txt\"),\n",
    "                                  population_size=50,\n",
    "                                  crossover_rate=0.7,\n",
    "                                  mutation_rate=0.01,\n",
    "                                  elitism_size=0.1,\n",
    "                                  generation_limit=100,\n",
    "                                  cost_limit=0,\n",
    "                                  sequence=[9, 5, 3])\n",
    "    print(f\"run: {i + 1}\", end=\"\\t\")\n",
    "    util.print_route_cost(result[0][0], one_way=False)\n",
    "    best_route_list.append(result[0][0])\n",
    "\n",
    "util.find_global_min(best_route_list, one_way=False)"
   ]
  },
  {
   "cell_type": "markdown",
   "id": "d562cf42",
   "metadata": {},
   "source": [
    "4.5 GATSP with clustering"
   ]
  },
  {
   "cell_type": "code",
   "execution_count": 2,
   "id": "8f928611",
   "metadata": {},
   "outputs": [],
   "source": [
    "import ga_clustering as ga_cl"
   ]
  },
  {
   "cell_type": "code",
   "execution_count": 3,
   "id": "f8c64e43",
   "metadata": {},
   "outputs": [
    {
     "name": "stdout",
     "output_type": "stream",
     "text": [
      "run: 1\tbest route: 26 37 29 36 27 31 28 33 32 35 34 30 17 22 25 20 19 8 12 13 38 40 \tcost: 25.24985847616219\n",
      "run: 2\tbest route: 26 37 29 36 31 27 28 35 33 32 34 17 30 19 20 25 22 8 13 12 38 40 \tcost: 25.24985847616219\n",
      "run: 3\tbest route: 40 37 26 29 36 31 27 28 22 20 17 19 30 25 32 33 35 34 13 12 8 38 \tcost: 23.35917360311745\n",
      "run: 4\tbest route: 40 26 37 29 36 27 28 31 32 34 35 33 19 22 25 30 20 17 13 8 12 38 \tcost: 22.187600727863643\n",
      "run: 5\tbest route: 34 33 32 35 20 22 19 25 17 30 27 31 28 13 12 8 38 40 36 37 26 29 \tcost: 28.184675243171014\n",
      "run: 6\tbest route: 38 12 13 25 8 31 28 27 22 20 17 30 19 35 33 34 32 36 40 26 37 29 \tcost: 29.53663105724556\n",
      "run: 7\tbest route: 36 29 26 37 40 38 13 8 12 25 17 19 20 30 22 34 33 32 35 28 27 31 \tcost: 26.712539288171435\n",
      "run: 8\tbest route: 26 37 29 36 35 33 27 31 28 34 32 19 22 20 25 30 17 12 13 8 38 40 \tcost: 27.540966412917626\n",
      "run: 9\tbest route: 38 8 12 13 30 25 22 19 35 33 34 32 17 20 27 28 31 36 29 37 26 40 \tcost: 22.773387165490547\n",
      "run: 10\tbest route: 26 37 29 36 27 31 28 34 33 35 32 25 20 30 19 22 17 13 8 12 38 40 \tcost: 25.24985847616219\n",
      "run: 1\tbest route: 1 3 2 14 10 7 11 16 21 18 24 15 23 6 9 4 5 \tcost: 7.242640687119285\n",
      "run: 2\tbest route: 10 7 11 14 2 1 3 5 4 6 9 23 16 18 21 15 24 \tcost: 6.82842712474619\n",
      "run: 3\tbest route: 5 4 6 9 23 16 18 24 21 15 11 7 10 14 2 3 1 \tcost: 7.242640687119285\n",
      "run: 4\tbest route: 14 3 2 1 6 9 5 4 23 21 15 24 16 18 11 7 10 \tcost: 7.242640687119285\n",
      "run: 5\tbest route: 5 4 1 2 3 9 6 23 15 21 18 16 24 7 10 11 14 \tcost: 7.242640687119285\n",
      "run: 6\tbest route: 16 18 21 24 15 7 10 11 14 1 2 3 5 4 6 9 23 \tcost: 7.242640687119285\n",
      "run: 7\tbest route: 5 4 9 6 3 1 2 14 7 10 11 21 24 16 15 18 23 \tcost: 7.242640687119285\n",
      "run: 8\tbest route: 11 7 10 14 1 3 2 4 5 9 6 23 18 16 21 24 15 \tcost: 6.82842712474619\n",
      "run: 9\tbest route: 14 7 11 10 18 24 15 21 16 23 9 6 3 2 1 4 5 \tcost: 7.242640687119285\n",
      "run: 10\tbest route: 14 4 5 1 3 2 9 6 23 16 15 24 18 21 11 10 7 \tcost: 7.242640687119285\n",
      "run: 1\tbest route: 43 45 47 49 50 48 46 44 41 42 39 \tcost: 11.071067811865476\n",
      "run: 2\tbest route: 39 42 41 44 46 48 50 49 47 45 43 \tcost: 11.071067811865476\n",
      "run: 3\tbest route: 46 44 41 42 39 43 45 47 48 50 49 \tcost: 11.242640687119286\n",
      "run: 4\tbest route: 48 50 49 47 46 44 41 42 39 43 45 \tcost: 11.242640687119286\n",
      "run: 5\tbest route: 43 45 47 49 50 48 46 44 42 41 39 \tcost: 11.071067811865476\n",
      "run: 6\tbest route: 39 42 41 44 46 48 50 49 47 45 43 \tcost: 11.071067811865476\n",
      "run: 7\tbest route: 49 50 48 47 46 44 42 41 39 43 45 \tcost: 10.82842712474619\n",
      "run: 8\tbest route: 39 42 41 44 46 48 50 49 47 45 43 \tcost: 11.071067811865476\n",
      "run: 9\tbest route: 43 45 47 49 50 48 46 44 41 42 39 \tcost: 11.071067811865476\n",
      "run: 10\tbest route: 43 45 47 49 50 48 46 44 41 42 39 \tcost: 11.071067811865476\n",
      "global min best route: 40 26 37 29 36 27 28 31 32 34 35 33 19 22 25 30 20 17 13 8 12 38 5 4 1 2 3 9 6 23 15 21 18 16 24 7 10 11 14 49 50 48 47 46 44 42 41 39 43 45 \tcost: 45.357688053321894\n"
     ]
    }
   ],
   "source": [
    "city_list = util.read_file_only_coordinates(\"Dataset/Cluster_dataset.txt\")\n",
    "clustering_result_list = util.read_clustering_result(\"Dataset/clustering_result.csv\")\n",
    "cluster_list = ga_cl.map_clustering(city_list, clustering_result_list)\n",
    "\n",
    "ga_cl.run_evolution_clustering(cluster_list=cluster_list,\n",
    "                               population_size=50,\n",
    "                               crossover_rate=0.7,\n",
    "                               mutation_rate=0.01,\n",
    "                               elitism_size=0.1,\n",
    "                               generation_limit=100,\n",
    "                               cost_limit=0)"
   ]
  },
  {
   "cell_type": "code",
   "execution_count": null,
   "id": "085b9313",
   "metadata": {},
   "outputs": [],
   "source": []
  }
 ],
 "metadata": {
  "kernelspec": {
   "display_name": "Python 3 (ipykernel)",
   "language": "python",
   "name": "python3"
  },
  "language_info": {
   "codemirror_mode": {
    "name": "ipython",
    "version": 3
   },
   "file_extension": ".py",
   "mimetype": "text/x-python",
   "name": "python",
   "nbconvert_exporter": "python",
   "pygments_lexer": "ipython3",
   "version": "3.8.11"
  }
 },
 "nbformat": 4,
 "nbformat_minor": 5
}
